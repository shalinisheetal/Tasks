{
 "cells": [
  {
   "cell_type": "code",
   "execution_count": 7,
   "metadata": {},
   "outputs": [
    {
     "name": "stdout",
     "output_type": "stream",
     "text": [
      "Enter movie name: fault in our stars\n",
      "TITLE : The Fault in Our Stars\n",
      "\n",
      "RELEASED : 06 Jun 2014\n",
      "\n",
      "RUNTIME : 126 min\n",
      "\n",
      "GENRE : Drama, Romance\n",
      "\n",
      "DIRECTOR : Josh Boone\n",
      "\n",
      "WRITER : Scott Neustadter (screenplay), Michael H. Weber (screenplay), John Green (book)\n",
      "\n",
      "ACTORS : Shailene Woodley, Ansel Elgort, Nat Wolff, Laura Dern\n",
      "\n",
      "LANGUAGE : English\n",
      "\n",
      "PLOT : Two teenage cancer patients begin a life-affirming journey to visit a reclusive author in Amsterdam.\n",
      "\n",
      "COUNTRY : USA\n",
      "\n",
      "POSTER : https://m.media-amazon.com/images/M/MV5BNTVkMTFiZWItOTFkOC00YTc3LWFhYzQtZTg3NzAxZjJlNTAyXkEyXkFqcGdeQXVyODE5NzE3OTE@._V1_SX300.jpg\n",
      "\n",
      "PRODUCTION : Temple Hill\n",
      "\n",
      "IMDBRATING : 7.7\n",
      "\n"
     ]
    }
   ],
   "source": [
    "import requests\n",
    "\n",
    "def movie(title):\n",
    "   \n",
    "    url = f\"http://www.omdbapi.com/?apikey=461a20c0&t={title}\"\n",
    "    resp = requests.get(url)\n",
    "    if resp.status_code == 200:\n",
    "        data = resp.json()\n",
    "        \n",
    "        l = ['Title', 'Released', 'Runtime', 'Genre', 'Director', 'Writer', 'Actors','Language', 'Plot', 'Country','Poster','Production', 'imdbRating']\n",
    "\n",
    "        for i in l:\n",
    "            if i in data.keys():\n",
    "                print(f\"{i.upper()} : {data[i]}\")\n",
    "                print()\n",
    "        \n",
    "    else:\n",
    "        print(\"Something went wrong!\")\n",
    "\n",
    "title = input(\"Enter movie name: \").lower()\n",
    "movie(title)"
   ]
  },
  {
   "cell_type": "code",
   "execution_count": null,
   "metadata": {},
   "outputs": [],
   "source": []
  }
 ],
 "metadata": {
  "kernelspec": {
   "display_name": "Python 3",
   "language": "python",
   "name": "python3"
  },
  "language_info": {
   "codemirror_mode": {
    "name": "ipython",
    "version": 3
   },
   "file_extension": ".py",
   "mimetype": "text/x-python",
   "name": "python",
   "nbconvert_exporter": "python",
   "pygments_lexer": "ipython3",
   "version": "3.8.5"
  }
 },
 "nbformat": 4,
 "nbformat_minor": 4
}
