{
 "cells": [
  {
   "cell_type": "code",
   "execution_count": 1,
   "metadata": {},
   "outputs": [],
   "source": [
    "import numpy as np"
   ]
  },
  {
   "cell_type": "code",
   "execution_count": 9,
   "metadata": {},
   "outputs": [],
   "source": [
    "arr = np.array(np.random.randint(10,50,20))"
   ]
  },
  {
   "cell_type": "code",
   "execution_count": 10,
   "metadata": {},
   "outputs": [
    {
     "data": {
      "text/plain": [
       "array([27, 13, 35, 32, 17, 29, 32, 25, 33, 29, 48, 21, 42, 19, 16, 42, 27,\n",
       "       40, 28, 21])"
      ]
     },
     "execution_count": 10,
     "metadata": {},
     "output_type": "execute_result"
    }
   ],
   "source": [
    "arr"
   ]
  },
  {
   "cell_type": "code",
   "execution_count": 17,
   "metadata": {},
   "outputs": [
    {
     "name": "stdout",
     "output_type": "stream",
     "text": [
      "12\n"
     ]
    }
   ],
   "source": [
    "def secLarge(arr):    \n",
    "    first = -1\n",
    "    second = -1\n",
    "    index1,index2 = -1,-1\n",
    "    for i in range(len(arr)):\n",
    "        if arr[i] > first:\n",
    "\n",
    "            second = first\n",
    "            first = arr[i]\n",
    "            index1 = i\n",
    "            index2 = index1\n",
    "\n",
    "        elif (arr[i] > second and arr[i] != first):\n",
    "            second = arr[i]\n",
    "            index2 = i\n",
    "\n",
    "    return index2\n",
    "    \n",
    "ind = secLarge(arr)\n",
    "print(ind)"
   ]
  },
  {
   "cell_type": "code",
   "execution_count": null,
   "metadata": {},
   "outputs": [],
   "source": []
  }
 ],
 "metadata": {
  "kernelspec": {
   "display_name": "Python 3",
   "language": "python",
   "name": "python3"
  },
  "language_info": {
   "codemirror_mode": {
    "name": "ipython",
    "version": 3
   },
   "file_extension": ".py",
   "mimetype": "text/x-python",
   "name": "python",
   "nbconvert_exporter": "python",
   "pygments_lexer": "ipython3",
   "version": "3.8.5"
  }
 },
 "nbformat": 4,
 "nbformat_minor": 4
}
