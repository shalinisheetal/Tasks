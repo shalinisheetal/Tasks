{
 "cells": [
  {
   "cell_type": "code",
   "execution_count": 1,
   "metadata": {},
   "outputs": [],
   "source": [
    "import numpy as np\n",
    "import matplotlib.pyplot as plt"
   ]
  },
  {
   "cell_type": "code",
   "execution_count": 7,
   "metadata": {},
   "outputs": [
    {
     "data": {
      "text/plain": [
       "<matplotlib.image.AxesImage at 0x120fbd2eac0>"
      ]
     },
     "execution_count": 7,
     "metadata": {},
     "output_type": "execute_result"
    },
    {
     "data": {
      "image/png": "[encoded data removed]",
      "text/plain": [
       "<Figure size 432x288 with 1 Axes>"
      ]
     },
     "metadata": {
      "needs_background": "light"
     },
     "output_type": "display_data"
    }
   ],
   "source": [
    "myimg = np.array([0]*1500000).reshape(1000,500,3)\n",
    "\n",
    "for j in range(500):\n",
    "    \n",
    "    for i in range(250):\n",
    "            myimg[i,j] = [255, 102, 153]\n",
    "\n",
    "    for i in range(250,500):\n",
    "        myimg[i,j] = [0, 51, 153]\n",
    "\n",
    "    for i in range(500,750):\n",
    "            myimg[i,j] = [153, 0, 51]\n",
    "\n",
    "    for i in range(750,1000):\n",
    "            myimg[i,j] = [255,255,0]\n",
    "        \n",
    "plt.imshow(myimg)"
   ]
  },
  {
   "cell_type": "code",
   "execution_count": 5,
   "metadata": {},
   "outputs": [
    {
     "data": {
      "text/plain": [
       "<matplotlib.image.AxesImage at 0x120fbb07790>"
      ]
     },
     "execution_count": 5,
     "metadata": {},
     "output_type": "execute_result"
    },
    {
     "data": {
      "image/png": "[encoded data removed]",
      "text/plain": [
       "<Figure size 432x288 with 1 Axes>"
      ]
     },
     "metadata": {
      "needs_background": "light"
     },
     "output_type": "display_data"
    }
   ],
   "source": [
    "myimg2 = np.array([0]*2400000).reshape(1000,800,3)\n",
    "\n",
    "for i in range(1000):\n",
    "    for j in range(200):\n",
    "        myimg2[i,j] = [0, 102, 153]\n",
    "        \n",
    "    for j in range(200,400):\n",
    "        myimg2[i,j] = [255, 153, 0]\n",
    "        \n",
    "    for j in range(400,600):\n",
    "        myimg2[i,j] = [153, 51, 153]\n",
    "        \n",
    "    for j in range(600,800):\n",
    "        myimg2[i,j] = [153, 204, 0]\n",
    "        \n",
    "plt.imshow(myimg2)"
   ]
  },
  {
   "cell_type": "code",
   "execution_count": null,
   "metadata": {},
   "outputs": [],
   "source": []
  }
 ],
 "metadata": {
  "kernelspec": {
   "display_name": "Python 3",
   "language": "python",
   "name": "python3"
  },
  "language_info": {
   "codemirror_mode": {
    "name": "ipython",
    "version": 3
   },
   "file_extension": ".py",
   "mimetype": "text/x-python",
   "name": "python",
   "nbconvert_exporter": "python",
   "pygments_lexer": "ipython3",
   "version": "3.8.5"
  }
 },
 "nbformat": 4,
 "nbformat_minor": 4
}
