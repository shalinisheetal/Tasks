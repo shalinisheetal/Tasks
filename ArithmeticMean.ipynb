{
 "cells": [
  {
   "cell_type": "markdown",
   "metadata": {},
   "source": [
    "#### ARITHMETIC MEAN OF GROUPED DATA\n"
   ]
  },
  {
   "cell_type": "code",
   "execution_count": 1,
   "metadata": {},
   "outputs": [],
   "source": [
    "import numpy as np"
   ]
  },
  {
   "cell_type": "code",
   "execution_count": 2,
   "metadata": {},
   "outputs": [],
   "source": [
    "data = list(np.random.randint(10,50,100))"
   ]
  },
  {
   "cell_type": "code",
   "execution_count": 3,
   "metadata": {},
   "outputs": [
    {
     "name": "stdout",
     "output_type": "stream",
     "text": [
      "30\t30\t17\t12\t19\t13\t24\t16\t27\t36\t35\t39\t33\t11\t22\t16\t45\t41\t41\t16\t37\t10\t24\t48\t40\t30\t34\t39\t22\t38\t44\t46\t22\t35\t49\t23\t20\t34\t32\t43\t19\t38\t11\t39\t46\t37\t32\t21\t11\t12\t24\t36\t29\t25\t40\t43\t49\t31\t30\t39\t33\t17\t26\t23\t39\t22\t19\t22\t13\t39\t34\t27\t42\t21\t14\t37\t18\t16\t25\t42\t24\t38\t35\t40\t46\t30\t12\t27\t34\t20\t47\t19\t27\t26\t45\t44\t17\t12\t13\t24\n"
     ]
    }
   ],
   "source": [
    "print(*data,sep = '\\t')"
   ]
  },
  {
   "cell_type": "code",
   "execution_count": 4,
   "metadata": {},
   "outputs": [
    {
     "name": "stdout",
     "output_type": "stream",
     "text": [
      "Number of classes(k) :  8\n",
      "Class size(c) :  5\n"
     ]
    }
   ],
   "source": [
    "N = len(data)\n",
    "k = round(1 + 3.322 * np.log10(N))\n",
    "Range = max(data) - min(data)\n",
    "size = round(Range/k)\n",
    "\n",
    "print(\"Number of classes(k) : \",k)\n",
    "print(\"Class size(c) : \",size)"
   ]
  },
  {
   "cell_type": "code",
   "execution_count": 28,
   "metadata": {},
   "outputs": [
    {
     "name": "stdout",
     "output_type": "stream",
     "text": [
      "________________________________________________________________________________________________________________________\n",
      "|\t MARKS \t\t| NO. OF STUDENTS \t|\t MID \t\t|\t  d \t\t|\t Fd \t\t|\n",
      "________________________________________________________________________________________________________________________\n",
      "|\t 10-15 \t\t|\t 12 \t\t|\t 12.5 \t\t|\t 0.0 \t\t|\t 0.0 \t\t|\n",
      "________________________________________________________________________________________________________________________\n",
      "|\t 15-20 \t\t|\t 12 \t\t|\t 17.5 \t\t|\t 1.0 \t\t|\t 12.0 \t\t|\n",
      "________________________________________________________________________________________________________________________\n",
      "|\t 20-25 \t\t|\t 16 \t\t|\t 22.5 \t\t|\t 2.0 \t\t|\t 32.0 \t\t|\n",
      "________________________________________________________________________________________________________________________\n",
      "|\t 25-30 \t\t|\t 9 \t\t|\t 27.5 \t\t|\t 3.0 \t\t|\t 27.0 \t\t|\n",
      "________________________________________________________________________________________________________________________\n",
      "|\t 30-35 \t\t|\t 14 \t\t|\t 32.5 \t\t|\t 4.0 \t\t|\t 56.0 \t\t|\n",
      "________________________________________________________________________________________________________________________\n",
      "|\t 35-40 \t\t|\t 17 \t\t|\t 37.5 \t\t|\t 5.0 \t\t|\t 85.0 \t\t|\n",
      "________________________________________________________________________________________________________________________\n",
      "|\t 40-45 \t\t|\t 11 \t\t|\t 42.5 \t\t|\t 6.0 \t\t|\t 66.0 \t\t|\n",
      "________________________________________________________________________________________________________________________\n",
      "|\t 45-50 \t\t|\t 9 \t\t|\t 47.5 \t\t|\t 7.0 \t\t|\t 63.0 \t\t|\n",
      "________________________________________________________________________________________________________________________\n",
      "                                                                                                         341.0\n"
     ]
    }
   ],
   "source": [
    "intervals = list(range(min(data),max(data)+2,size))\n",
    "#print(*intervals)\n",
    "\n",
    "freq = []\n",
    "print(\"_\"*120)\n",
    "print(\"|\\t MARKS \\t\\t| NO. OF STUDENTS \\t|\\t MID \\t\\t|\\t  d \\t\\t|\\t Fd \\t\\t|\")\n",
    "print(\"_\"*120)\n",
    "\n",
    "sum_fd = 0\n",
    "\n",
    "for i in range(len(intervals)-1):\n",
    "    l = intervals[i]\n",
    "    h = intervals[i+1]\n",
    "    mid = (h+l)/2\n",
    "    # for current range l is lower limit and h is the higher limit\n",
    "    \n",
    "    count = 0\n",
    "    for x in range(l,h): #exclusive\n",
    "        count += data.count(x)\n",
    "    freq.append(count)\n",
    "    \n",
    "    if i == 0:\n",
    "        A = mid \n",
    "    \n",
    "    d = (mid-A)/(h-l)\n",
    "    fd = count*d\n",
    "    sum_fd += fd\n",
    "    \n",
    "    print(f\"|\\t {l}-{h} \\t\\t|\\t {freq[i]} \\t\\t|\\t {mid} \\t\\t|\\t {d} \\t\\t|\\t {fd} \\t\\t|\")\n",
    "    print(\"_\"*120)\n",
    "    \n",
    "print(f\"{sum_fd}\".rjust(110))"
   ]
  },
  {
   "cell_type": "code",
   "execution_count": 31,
   "metadata": {},
   "outputs": [
    {
     "name": "stdout",
     "output_type": "stream",
     "text": [
      "Mean of grouped data is: 29.55\n"
     ]
    }
   ],
   "source": [
    "mean = A + (sum_fd/len(data))*size\n",
    "print(\"Mean of grouped data is:\",mean)"
   ]
  },
  {
   "cell_type": "markdown",
   "metadata": {},
   "source": [
    "\n",
    "#### WEIGHTED ARITHMETIC MEAN"
   ]
  },
  {
   "cell_type": "code",
   "execution_count": 40,
   "metadata": {},
   "outputs": [
    {
     "name": "stdout",
     "output_type": "stream",
     "text": [
      "0\t10\t20\t30\t40\t50\t60\t70\t80\t90\t100\n",
      "5\t4\t10\t9\t2\t0\t7\t15\t10\t2\t2\n"
     ]
    }
   ],
   "source": [
    "values = [i for i in range(0,101,10)]\n",
    "weights = np.random.randint(0,20,11)\n",
    "\n",
    "print(*values,sep = '\\t')\n",
    "print(*weights,sep = '\\t')"
   ]
  },
  {
   "cell_type": "code",
   "execution_count": 38,
   "metadata": {},
   "outputs": [
    {
     "name": "stdout",
     "output_type": "stream",
     "text": [
      "Weighted mean: 46.05\n"
     ]
    }
   ],
   "source": [
    "num = 0\n",
    "for i in range(len(values)):\n",
    "    num += values[i]*weights[i]\n",
    "\n",
    "den = sum(weights)\n",
    "wt_mean = round(num/den,2)\n",
    "print(\"Weighted mean:\",wt_mean)"
   ]
  },
  {
   "cell_type": "code",
   "execution_count": null,
   "metadata": {},
   "outputs": [],
   "source": []
  }
 ],
 "metadata": {
  "kernelspec": {
   "display_name": "Python 3",
   "language": "python",
   "name": "python3"
  },
  "language_info": {
   "codemirror_mode": {
    "name": "ipython",
    "version": 3
   },
   "file_extension": ".py",
   "mimetype": "text/x-python",
   "name": "python",
   "nbconvert_exporter": "python",
   "pygments_lexer": "ipython3",
   "version": "3.8.5"
  }
 },
 "nbformat": 4,
 "nbformat_minor": 4
}
