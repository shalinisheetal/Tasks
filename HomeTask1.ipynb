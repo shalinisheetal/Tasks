{
 "cells": [
  {
   "cell_type": "markdown",
   "metadata": {},
   "source": [
    "1. Task : \n",
    "Given an array, X of n integers, calculate the respective first quartile( Q1), \tsecond quartile(Q2) and third quartile(Q3)\n",
    "\n",
    "Input Format\n",
    "The first line contains an integer, n, denoting the number of elements in the array. \n",
    "The second line contains n space-separated integers describing the array's elements.\n",
    "\n",
    "Output Format\n",
    "Print 3 lines of output in the following order:\n",
    "1.\tThe first line should be the value of  Q1\n",
    "2.\t The second line should be the value of Q2 \n",
    "3.\tThe third line should be the value of .Q3\n"
   ]
  },
  {
   "cell_type": "code",
   "execution_count": 2,
   "metadata": {},
   "outputs": [
    {
     "name": "stdout",
     "output_type": "stream",
     "text": [
      "9\n",
      "1 2 3 4 5 6 7 8 9\n",
      "2\n",
      "5\n",
      "7\n"
     ]
    }
   ],
   "source": [
    "n = int(input())\n",
    "x = map(int,input().split())\n",
    "x = sorted(x)\n",
    "\n",
    "#quartile divides the data into quarters or four defined intervals\n",
    "q1 = (n+1)*1//4\n",
    "q2 = (n+1)*2//4\n",
    "q3 = (n+1)*3//4\n",
    "\n",
    "print(x[q1-1])\n",
    "print(x[q2-1])\n",
    "print(x[q3-1])"
   ]
  },
  {
   "cell_type": "markdown",
   "metadata": {},
   "source": [
    "2. Task \n",
    "Given an array,X , of N integers, calculate and print the standard deviation. Your answer should be in decimal form, rounded to a scale of 1  decimal place (i.e.,12.3 format).\n",
    "Input Format\n",
    "The first line contains an integer, N, denoting the number of elements in the array. \n",
    "The second line contains N space-separated integers describing the respective elements of the array.\n",
    "Output Format\n",
    "Print the standard deviation on a new line, rounded to a scale of 1 decimal place\n"
   ]
  },
  {
   "cell_type": "code",
   "execution_count": 10,
   "metadata": {},
   "outputs": [
    {
     "name": "stdout",
     "output_type": "stream",
     "text": [
      "5 \n",
      "1 2 3 4 5\n",
      "1.4\n"
     ]
    }
   ],
   "source": [
    "from math import *\n",
    "\n",
    "n = int(input())\n",
    "x = list(map(int,input().split()))\n",
    "mean = round(sum(x)/len(x),2)\n",
    "s = 0\n",
    "for i in x:\n",
    "    v = (i-mean)*(i-mean)\n",
    "    s += v\n",
    "    \n",
    "d = s/n\n",
    "sd = round(sqrt(d),1)\n",
    "print(sd)"
   ]
  },
  {
   "cell_type": "code",
   "execution_count": null,
   "metadata": {},
   "outputs": [],
   "source": [
    "#task 3 Pearson's coefficient"
   ]
  },
  {
   "cell_type": "code",
   "execution_count": 15,
   "metadata": {},
   "outputs": [
    {
     "name": "stdout",
     "output_type": "stream",
     "text": [
      "3\n",
      "1 2 3\n",
      "4 5 6\n",
      "1.0\n"
     ]
    }
   ],
   "source": [
    "from math import *\n",
    "\n",
    "n = int(input())\n",
    "x = list(map(int,input().split()))\n",
    "y = list(map(int,input().split()))\n",
    "\n",
    "meanx = round(sum(x)/len(x),2)\n",
    "meany = round(sum(y)/len(y),2)\n",
    "\n",
    "num, den = 0, 0\n",
    "sumx, sumy = 0, 0\n",
    "\n",
    "for _ in range(n):\n",
    "    i,j = x[_], y[_]\n",
    "    num += (i-mx)*(j-my)\n",
    "    sumx += (i-meanx)*(i-meanx)\n",
    "    sumy += (j-meany)*(j-meany)\n",
    "    \n",
    "den = sqrt(sumx*sumy)\n",
    "corr = round(num/den,3)\n",
    "print(corr)"
   ]
  },
  {
   "cell_type": "code",
   "execution_count": null,
   "metadata": {},
   "outputs": [],
   "source": []
  }
 ],
 "metadata": {
  "kernelspec": {
   "display_name": "Python 3",
   "language": "python",
   "name": "python3"
  },
  "language_info": {
   "codemirror_mode": {
    "name": "ipython",
    "version": 3
   },
   "file_extension": ".py",
   "mimetype": "text/x-python",
   "name": "python",
   "nbconvert_exporter": "python",
   "pygments_lexer": "ipython3",
   "version": "3.8.5"
  }
 },
 "nbformat": 4,
 "nbformat_minor": 4
}
